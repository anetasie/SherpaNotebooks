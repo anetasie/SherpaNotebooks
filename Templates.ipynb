{
 "cells": [
  {
   "cell_type": "markdown",
   "metadata": {},
   "source": [
    "## Simple Templates Fitting of a Quasar SED in Sherpa"
   ]
  },
  {
   "cell_type": "markdown",
   "metadata": {},
   "source": [
    "Sherpa can use the template models and combined them with the other models. Here we show a simple template fitting to the SED of a quasar.\n",
    "A set of accretion disk spectral models with the standard parameters (mass, accretion rate, inclination anlge) has been stored in the subdirectory Templates.  table.txt ascii file index these spectra as required for Sherpa. "
   ]
  },
  {
   "cell_type": "markdown",
   "metadata": {},
   "source": [
    "First import Sherpa packages"
   ]
  },
  {
   "cell_type": "code",
   "execution_count": 1,
   "metadata": {},
   "outputs": [],
   "source": [
    "from sherpa.astro.ui import *"
   ]
  },
  {
   "cell_type": "markdown",
   "metadata": {},
   "source": [
    "Define the optimization method and load the ascii data file ( $\\log {\\nu}, \\log {\\nu F_{\\nu}}$, $1\\sigma$ errors), plot the data and  set the data filter.  The SED covers broad-band and we filter the data to include only the optical-UV part for fitting with the disk models."
   ]
  },
  {
   "cell_type": "code",
   "execution_count": 2,
   "metadata": {},
   "outputs": [
    {
     "data": {
      "image/png": "[encoded data removed]",
      "text/plain": [
       "<Figure size 432x288 with 1 Axes>"
      ]
     },
     "metadata": {
      "needs_background": "light"
     },
     "output_type": "display_data"
    }
   ],
   "source": [
    "set_method('simplex')\n",
    "load_ascii('3098_errors.dat', ncols=3, dstype=Data1D)\n",
    "plot_data()\n",
    "notice(13.5,16.)"
   ]
  },
  {
   "cell_type": "markdown",
   "metadata": {},
   "source": [
    "Input template model defined via an ascii index file table.txt. The model name for Sherpa session is required and given as 'tbl' in this initial step. set_model() assignes the template model to the SED data. get_model() brings the information about the initial model parameters, which are based on the first entry in the table.txt index file."
   ]
  },
  {
   "cell_type": "code",
   "execution_count": 3,
   "metadata": {},
   "outputs": [
    {
     "data": {
      "text/html": [
       "<style>/*\n",
       "Copyright (C) 2020  Smithsonian Astrophysical Observatory\n",
       "\n",
       "\n",
       " This program is free software; you can redistribute it and/or modify\n",
       " it under the terms of the GNU General Public License as published by\n",
       " the Free Software Foundation; either version 3 of the License, or\n",
       " (at your option) any later version.\n",
       "\n",
       " This program is distributed in the hope that it will be useful,\n",
       " but WITHOUT ANY WARRANTY; without even the implied warranty of\n",
       " MERCHANTABILITY or FITNESS FOR A PARTICULAR PURPOSE.  See the\n",
       " GNU General Public License for more details.\n",
       "\n",
       " You should have received a copy of the GNU General Public License along\n",
       " with this program; if not, write to the Free Software Foundation, Inc.,\n",
       " 51 Franklin Street, Fifth Floor, Boston, MA 02110-1301 USA.\n",
       "\n",
       "*/\n",
       "\n",
       ":root {\n",
       "  --sherpa-border-color: var(--jp-border-color2, #e0e0e0);\n",
       "  --sherpa-background-color: var(--jp-layout-color0, white);\n",
       "  --sherpa-background-color-row-even: var(--jp-layout-color1, white);\n",
       "  --sherpa-background-color-row-odd: var(--jp-layout-color2, #eeeeee);\n",
       "\n",
       "  /* https://medium.com/ge-design/iot-cool-gray-is-a-great-background-color-for-data-visualization-ebf18c318418 */\n",
       "  --sherpa-background-color-dark1: #EBEFF2;\n",
       "  --sherpa-background-color-dark2: #D8E0E5;\n",
       "}\n",
       "\n",
       "div.sherpa-text-fallback {\n",
       "    display: none;\n",
       "}\n",
       "\n",
       "div.sherpa {\n",
       "    display: block;\n",
       "}\n",
       "\n",
       "div.sherpa details summary {\n",
       "    display: list-item;  /* needed for notebook, not lab */\n",
       "    font-size: larger;\n",
       "}\n",
       "\n",
       "div.sherpa details div.datavals {\n",
       "    display: grid;\n",
       "    grid-template-columns: 1fr 3fr;\n",
       "    column-gap: 0.5em;\n",
       "}\n",
       "\n",
       "div.sherpa div.dataname {\n",
       "    font-weight: bold;\n",
       "    border-right: 1px solid var(--sherpa-border-color);\n",
       "}\n",
       "\n",
       "div.sherpa div.dataval { }\n",
       "\n",
       "div.sherpa div.datavals div:nth-child(4n + 1) ,\n",
       "div.sherpa div.datavals div:nth-child(4n + 2) {\n",
       "    background: var(--sherpa-background-color-row-odd);\n",
       "}\n",
       "\n",
       "div.sherpa table.model tbody {\n",
       "    border-bottom: 1px solid var(--sherpa-border-color);\n",
       "}\n",
       "\n",
       "div.sherpa table.model tr.block {\n",
       "    border-top: 1px solid var(--sherpa-border-color);\n",
       "}\n",
       "\n",
       "div.sherpa table.model th.model-odd ,\n",
       "div.sherpa table.model th.model-even {\n",
       "    border-right: 1px solid var(--sherpa-border-color);\n",
       "}\n",
       "\n",
       "div.sherpa table.model th.model-odd {\n",
       "    background: var(--sherpa-background-color-dark1);\n",
       "}\n",
       "\n",
       "div.sherpa table.model th.model-even {\n",
       "    background: var(--sherpa-background-color-dark2);\n",
       "}\n",
       "\n",
       "div.sherpa .failed {\n",
       "    background: orange;\n",
       "    font-size: large;\n",
       "    padding: 1em;\n",
       "}\n",
       "</style><div class=\"sherpa-text-fallback\">&lt;Template model instance &#x27;template.tbl&#x27;&gt;</div><div hidden class=\"sherpa\"><details open><summary>Model</summary><table class=\"model\"><caption>Expression: template.tbl</caption><thead><tr><th>Component</th><th>Parameter</th><th>Thawed</th><th>Value</th><th>Min</th><th>Max</th><th>Units</th></tr></thead><tbody><tr><th class=\"model-odd\" scope=\"rowgroup\" rowspan=3>tbl</th><td>mass</td><td><input disabled type=\"checkbox\" checked></input></td><td>6.0</td><td>6.0</td><td>10.0</td><td></td></tr><tr><td>rate</td><td><input disabled type=\"checkbox\" checked></input></td><td>0.1</td><td>0.01</td><td>1.0</td><td></td></tr><tr><td>angle</td><td><input disabled type=\"checkbox\" checked></input></td><td>0.1</td><td>0.1</td><td>1.0</td><td></td></tr></tbody></table></details></div>"
      ],
      "text/plain": [
       "<Template model instance 'template.tbl'>"
      ]
     },
     "execution_count": 3,
     "metadata": {},
     "output_type": "execute_result"
    }
   ],
   "source": [
    "load_template_model('tbl', 'table.txt')\n",
    "set_model(tbl)\n",
    "get_model()"
   ]
  },
  {
   "cell_type": "markdown",
   "metadata": {},
   "source": [
    "In the next step the SED is fit with the templates using simplex neldermead algorithm. The chi2 statistics will be used with the measurement errors entered together with the data. The fit returns the screen output with the information about the best fit parameters and related statistical values."
   ]
  },
  {
   "cell_type": "code",
   "execution_count": 4,
   "metadata": {},
   "outputs": [
    {
     "name": "stdout",
     "output_type": "stream",
     "text": [
      "Dataset               = 1\n",
      "Method                = neldermead\n",
      "Statistic             = chi2\n",
      "Initial fit statistic = 426180\n",
      "Final fit statistic   = 91.4691 at function evaluation 324\n",
      "Data points           = 7\n",
      "Degrees of freedom    = 4\n",
      "Probability [Q-value] = 6.4175e-19\n",
      "Reduced statistic     = 22.8673\n",
      "Change in statistic   = 426089\n",
      "   tbl.mass       8.98957     \n",
      "   tbl.rate       0.305722    \n",
      "   tbl.angle      0.995458    \n"
     ]
    },
    {
     "data": {
      "image/png": "[encoded data removed]",
      "text/plain": [
       "<Figure size 432x288 with 1 Axes>"
      ]
     },
     "metadata": {
      "needs_background": "light"
     },
     "output_type": "display_data"
    }
   ],
   "source": [
    "fit()\n",
    "plot_fit()"
   ]
  },
  {
   "cell_type": "markdown",
   "metadata": {},
   "source": [
    "plot_fit() generates a figure showing the data points overplotted with the line defined by the best fit mode parameters given above. The fit goes over the data points, but the reduced chi2 statistics is large, mainly due to the deviations at lower frequencies. \n",
    "We add a second model component to account for these deviations."
   ]
  },
  {
   "cell_type": "code",
   "execution_count": 5,
   "metadata": {},
   "outputs": [
    {
     "name": "stdout",
     "output_type": "stream",
     "text": [
      "Dataset               = 1\n",
      "Method                = neldermead\n",
      "Statistic             = chi2\n",
      "Initial fit statistic = 26.2289\n",
      "Final fit statistic   = 19.3396 at function evaluation 275\n",
      "Data points           = 5\n",
      "Degrees of freedom    = 2\n",
      "Probability [Q-value] = 6.31632e-05\n",
      "Reduced statistic     = 9.66979\n",
      "Change in statistic   = 6.88929\n",
      "   tbl.mass       8.98154     \n",
      "   tbl.rate       0.29325     \n",
      "   tbl.angle      0.980385    \n"
     ]
    },
    {
     "data": {
      "image/png": "[encoded data removed]",
      "text/plain": [
       "<Figure size 432x288 with 1 Axes>"
      ]
     },
     "metadata": {
      "needs_background": "light"
     },
     "output_type": "display_data"
    }
   ],
   "source": [
    "ignore()\n",
    "notice(14.5,15.4)\n",
    "fit()\n",
    "plot_fit()"
   ]
  },
  {
   "cell_type": "markdown",
   "metadata": {},
   "source": [
    "The reduced chi2 is still high. In order to obtain the confidence bounds for the best fit parameters we will set up the options for confidence before running it. 'sigma' defines the confidence level, 'max_rstat' defines the maximum value of reduced statistics allowed by confidence, if rstat is higher than the max_rstat conf() will fail."
   ]
  },
  {
   "cell_type": "code",
   "execution_count": 6,
   "metadata": {},
   "outputs": [
    {
     "name": "stdout",
     "output_type": "stream",
     "text": [
      "tbl.mass -: WARNING: The confidence level lies within (8.961713e+00, 8.965722e+00)\n",
      "tbl.mass lower bound:\t-0.0178194\n",
      "tbl.rate lower bound:\t-0.0232344\n",
      "tbl.rate +: WARNING: The confidence level lies within (3.397280e-01, 3.428440e-01)\n",
      "tbl.rate upper bound:\t0.0480356\n",
      "tbl.angle -: WARNING: The confidence level lies within (9.657205e-01, 9.657121e-01)\n",
      "tbl.angle lower bound:\t-0.0146684\n",
      "tbl.angle upper bound:\t-----\n",
      "tbl.mass +: WARNING: The confidence level lies within (9.035475e+00, 9.035465e+00)\n",
      "tbl.mass upper bound:\t0.0539335\n",
      "Dataset               = 1\n",
      "Confidence Method     = confidence\n",
      "Iterative Fit Method  = None\n",
      "Fitting Method        = neldermead\n",
      "Statistic             = chi2gehrels\n",
      "confidence 1-sigma (68.2689%) bounds:\n",
      "   Param            Best-Fit  Lower Bound  Upper Bound\n",
      "   -----            --------  -----------  -----------\n",
      "   tbl.mass          8.98154   -0.0178194    0.0539335\n",
      "   tbl.rate          0.29325   -0.0232344    0.0480356\n",
      "   tbl.angle        0.980385   -0.0146684        -----\n"
     ]
    }
   ],
   "source": [
    "set_conf_opt('sigma',1)\n",
    "set_conf_opt('max_rstat',10)\n",
    "conf()"
   ]
  },
  {
   "cell_type": "markdown",
   "metadata": {},
   "source": [
    "The screen output contains the confidence levels as well as the print out of the runs. These values can be accessed later as well using get_conf_results()"
   ]
  },
  {
   "cell_type": "code",
   "execution_count": 7,
   "metadata": {},
   "outputs": [
    {
     "data": {
      "text/html": [
       "<style>/*\n",
       "Copyright (C) 2020  Smithsonian Astrophysical Observatory\n",
       "\n",
       "\n",
       " This program is free software; you can redistribute it and/or modify\n",
       " it under the terms of the GNU General Public License as published by\n",
       " the Free Software Foundation; either version 3 of the License, or\n",
       " (at your option) any later version.\n",
       "\n",
       " This program is distributed in the hope that it will be useful,\n",
       " but WITHOUT ANY WARRANTY; without even the implied warranty of\n",
       " MERCHANTABILITY or FITNESS FOR A PARTICULAR PURPOSE.  See the\n",
       " GNU General Public License for more details.\n",
       "\n",
       " You should have received a copy of the GNU General Public License along\n",
       " with this program; if not, write to the Free Software Foundation, Inc.,\n",
       " 51 Franklin Street, Fifth Floor, Boston, MA 02110-1301 USA.\n",
       "\n",
       "*/\n",
       "\n",
       ":root {\n",
       "  --sherpa-border-color: var(--jp-border-color2, #e0e0e0);\n",
       "  --sherpa-background-color: var(--jp-layout-color0, white);\n",
       "  --sherpa-background-color-row-even: var(--jp-layout-color1, white);\n",
       "  --sherpa-background-color-row-odd: var(--jp-layout-color2, #eeeeee);\n",
       "\n",
       "  /* https://medium.com/ge-design/iot-cool-gray-is-a-great-background-color-for-data-visualization-ebf18c318418 */\n",
       "  --sherpa-background-color-dark1: #EBEFF2;\n",
       "  --sherpa-background-color-dark2: #D8E0E5;\n",
       "}\n",
       "\n",
       "div.sherpa-text-fallback {\n",
       "    display: none;\n",
       "}\n",
       "\n",
       "div.sherpa {\n",
       "    display: block;\n",
       "}\n",
       "\n",
       "div.sherpa details summary {\n",
       "    display: list-item;  /* needed for notebook, not lab */\n",
       "    font-size: larger;\n",
       "}\n",
       "\n",
       "div.sherpa details div.datavals {\n",
       "    display: grid;\n",
       "    grid-template-columns: 1fr 3fr;\n",
       "    column-gap: 0.5em;\n",
       "}\n",
       "\n",
       "div.sherpa div.dataname {\n",
       "    font-weight: bold;\n",
       "    border-right: 1px solid var(--sherpa-border-color);\n",
       "}\n",
       "\n",
       "div.sherpa div.dataval { }\n",
       "\n",
       "div.sherpa div.datavals div:nth-child(4n + 1) ,\n",
       "div.sherpa div.datavals div:nth-child(4n + 2) {\n",
       "    background: var(--sherpa-background-color-row-odd);\n",
       "}\n",
       "\n",
       "div.sherpa table.model tbody {\n",
       "    border-bottom: 1px solid var(--sherpa-border-color);\n",
       "}\n",
       "\n",
       "div.sherpa table.model tr.block {\n",
       "    border-top: 1px solid var(--sherpa-border-color);\n",
       "}\n",
       "\n",
       "div.sherpa table.model th.model-odd ,\n",
       "div.sherpa table.model th.model-even {\n",
       "    border-right: 1px solid var(--sherpa-border-color);\n",
       "}\n",
       "\n",
       "div.sherpa table.model th.model-odd {\n",
       "    background: var(--sherpa-background-color-dark1);\n",
       "}\n",
       "\n",
       "div.sherpa table.model th.model-even {\n",
       "    background: var(--sherpa-background-color-dark2);\n",
       "}\n",
       "\n",
       "div.sherpa .failed {\n",
       "    background: orange;\n",
       "    font-size: large;\n",
       "    padding: 1em;\n",
       "}\n",
       "</style><div class=\"sherpa-text-fallback\">&lt;confidence results instance&gt;</div><div hidden class=\"sherpa\"><details open><summary>confidence 1&#963; (68.2689%) bounds</summary><table><thead><tr><th>Parameter</th><th>Best-fit value</th><th>Lower Bound</th><th>Upper Bound</th></tr></thead><tbody><tr><td>tbl.mass</td><td>     8.98154</td><td>  -0.0178194</td><td>   0.0539335</td></tr><tr><td>tbl.rate</td><td>     0.29325</td><td>  -0.0232344</td><td>   0.0480356</td></tr><tr><td>tbl.angle</td><td>    0.980385</td><td>  -0.0146684</td><td>-----</td></tr></tbody></table></details><details><summary>Summary (3)</summary><div class=\"datavals\"><div class=\"dataname\">Dataset</div><div class=\"dataval\">1</div><div class=\"dataname\">Fitting Method</div><div class=\"dataval\">neldermead</div><div class=\"dataname\">Statistic</div><div class=\"dataval\">chi2gehrels</div></div></details></div>"
      ],
      "text/plain": [
       "<confidence results instance>"
      ]
     },
     "execution_count": 7,
     "metadata": {},
     "output_type": "execute_result"
    }
   ],
   "source": [
    "get_conf_results()"
   ]
  },
  {
   "cell_type": "code",
   "execution_count": 8,
   "metadata": {},
   "outputs": [
    {
     "data": {
      "text/plain": [
       "(-0.017819382963949693, -0.023234427094558918, -0.014668384427378611)"
      ]
     },
     "execution_count": 8,
     "metadata": {},
     "output_type": "execute_result"
    }
   ],
   "source": [
    "get_conf_results().parmins"
   ]
  },
  {
   "cell_type": "code",
   "execution_count": 9,
   "metadata": {},
   "outputs": [
    {
     "data": {
      "image/png": "[encoded data removed]",
      "text/plain": [
       "<Figure size 432x288 with 1 Axes>"
      ]
     },
     "metadata": {
      "needs_background": "light"
     },
     "output_type": "display_data"
    }
   ],
   "source": [
    "get_model()\n",
    "plot_fit()"
   ]
  },
  {
   "cell_type": "code",
   "execution_count": 10,
   "metadata": {},
   "outputs": [
    {
     "data": {
      "image/png": "[encoded data removed]",
      "text/plain": [
       "<Figure size 432x288 with 1 Axes>"
      ]
     },
     "metadata": {
      "needs_background": "light"
     },
     "output_type": "display_data"
    }
   ],
   "source": [
    "ignore()\n",
    "notice(14.5,15.4)\n",
    "plot_fit()"
   ]
  },
  {
   "cell_type": "code",
   "execution_count": null,
   "metadata": {},
   "outputs": [],
   "source": []
  },
  {
   "cell_type": "code",
   "execution_count": null,
   "metadata": {},
   "outputs": [],
   "source": []
  }
 ],
 "metadata": {
  "kernelspec": {
   "display_name": "Python 3",
   "language": "python",
   "name": "python3"
  },
  "language_info": {
   "codemirror_mode": {
    "name": "ipython",
    "version": 3
   },
   "file_extension": ".py",
   "mimetype": "text/x-python",
   "name": "python",
   "nbconvert_exporter": "python",
   "pygments_lexer": "ipython3",
   "version": "3.8.2"
  }
 },
 "nbformat": 4,
 "nbformat_minor": 1
}
